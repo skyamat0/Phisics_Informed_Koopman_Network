{
 "cells": [
  {
   "cell_type": "code",
   "execution_count": 8,
   "id": "28bdd8ef-0a3d-4d69-8063-10cc37c6bfec",
   "metadata": {},
   "outputs": [],
   "source": [
    "import torch\n",
    "import torch.nn as nn\n",
    "import torch.nn.functional as F"
   ]
  },
  {
   "cell_type": "code",
   "execution_count": 14,
   "id": "084abb88-f5f2-4b65-ab6b-b4bdd58d805f",
   "metadata": {},
   "outputs": [
    {
     "data": {
      "text/plain": [
       "tensor([0.0468, 0.0831], grad_fn=<ReluBackward0>)"
      ]
     },
     "execution_count": 14,
     "metadata": {},
     "output_type": "execute_result"
    }
   ],
   "source": [
    "class KoopmanMatrix(nn.Module):\n",
    "    def __init__(self, M):\n",
    "        super().__init__()\n",
    "        self.koopman_matrix = nn.Linear(M, M)\n",
    "    def forward(self, x):\n",
    "        x = self.koopman_matrix(x)\n",
    "        return x\n",
    "        \n",
    "class Encoder(nn.Module):\n",
    "    def __init__(self, in_dim, out_dim):\n",
    "        super().__init__()\n",
    "        self.layer1 = nn.Linear(in_dim, 64)\n",
    "        self.layer2 = nn.Linear(64, 32)\n",
    "        self.layer3 = nn.Linear(32, out_dim)\n",
    "        \n",
    "    def forward(self, x):\n",
    "        x = F.relu(self.layer1(x))\n",
    "        x = F.relu(self.layer2(x))\n",
    "        x = F.relu(self.layer3(x))\n",
    "        return x\n",
    "\n",
    "class Decoder(nn.Module):\n",
    "    def __init__(self, in_dim, out_dim):\n",
    "        super().__init__()\n",
    "        self.layer1 = nn.Linear(in_dim, 64)\n",
    "        self.layer2 = nn.Linear(64, 32)\n",
    "        self.layer3 = nn.Linear(32, out_dim)\n",
    "        \n",
    "    def forward(self, x):\n",
    "        x = F.relu(self.layer1(x))\n",
    "        x = F.relu(self.layer2(x))\n",
    "        x = F.relu(self.layer3(x))\n",
    "        return x\n",
    "\n",
    "class KoopmanAutoEncoder(nn.Module):\n",
    "    def __init__(self, in_dim, latent_dim):\n",
    "        super().__init__()\n",
    "        self.enc = Encoder(in_dim, latent_dim)\n",
    "        self.km = KoopmanMatrix(latent_dim)\n",
    "        self.dec = Decoder(latent_dim, in_dim)\n",
    "    def forward(self, x):\n",
    "        x = self.enc(x)\n",
    "        x = self.km(x)\n",
    "        x = self.dec(x)\n",
    "        return x\n",
    "\n",
    "def loss_fn_latent(y, y_hat):\n",
    "    pass\n",
    "def loss_fn_recon(y, y_hat):\n",
    "    pass\n",
    "in_dim = 2\n",
    "latent_dim = 10\n",
    "kae = KoopmanAutoEncoder(in_dim, latent_dim)\n",
    "X = torch.tensor([1, 2]).float()\n",
    "kae(X)"
   ]
  },
  {
   "cell_type": "code",
   "execution_count": null,
   "id": "0daacddd-3efb-4e85-ae60-f6df0533de26",
   "metadata": {},
   "outputs": [],
   "source": []
  }
 ],
 "metadata": {
  "kernelspec": {
   "display_name": "Python 3 (ipykernel)",
   "language": "python",
   "name": "python3"
  },
  "language_info": {
   "codemirror_mode": {
    "name": "ipython",
    "version": 3
   },
   "file_extension": ".py",
   "mimetype": "text/x-python",
   "name": "python",
   "nbconvert_exporter": "python",
   "pygments_lexer": "ipython3",
   "version": "3.11.4"
  }
 },
 "nbformat": 4,
 "nbformat_minor": 5
}
