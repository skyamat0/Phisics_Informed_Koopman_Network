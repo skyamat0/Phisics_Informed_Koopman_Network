{
 "cells": [
  {
   "cell_type": "code",
   "execution_count": 4,
   "id": "28bdd8ef-0a3d-4d69-8063-10cc37c6bfec",
   "metadata": {},
   "outputs": [],
   "source": [
    "import torch\n",
    "import torch.nn as nn\n",
    "import torch.nn.functional as F"
   ]
  },
  {
   "cell_type": "markdown",
   "id": "e6942e68-d6e3-4d06-9004-53cbd4e1c878",
   "metadata": {},
   "source": [
    "# コスト関数\n",
    "\n",
    "## データから\n",
    "$$\n",
    "\\mathcal{J}_{data} = \\frac{1}{p} \\sum_{j=0}^{p} \\omega_3{\\left\\lVert e^{L\\Delta t_j}\\phi(\\mathbf{x}(t_0)) - \\phi(\\mathbf{x}(t_j))\\right\\rVert}^2 + \\omega_4\\left\\lVert \\mathbf{x}(t_j) - \\psi(\\mathbf{z}(t_j))\\right\\rVert^2\n",
    "$$"
   ]
  },
  {
   "cell_type": "code",
   "execution_count": 66,
   "id": "084abb88-f5f2-4b65-ab6b-b4bdd58d805f",
   "metadata": {},
   "outputs": [],
   "source": [
    "class KoopmanMatrix(nn.Module):\n",
    "    def __init__(self, M):\n",
    "        super().__init__()\n",
    "        self.koopman_matrix = nn.Linear(M, M)\n",
    "    def forward(self, x, steps):\n",
    "        for j in range(steps):\n",
    "            x = self.koopman_matrix(x)\n",
    "        return x\n",
    "        \n",
    "class Encoder(nn.Module):\n",
    "    def __init__(self, in_dim, out_dim):\n",
    "        super().__init__()\n",
    "        self.layer1 = nn.Linear(in_dim, 64)\n",
    "        self.layer2 = nn.Linear(64, 32)\n",
    "        self.layer3 = nn.Linear(32, out_dim)\n",
    "        \n",
    "    def forward(self, x):\n",
    "        x = F.relu(self.layer1(x))\n",
    "        x = F.relu(self.layer2(x))\n",
    "        x = F.relu(self.layer3(x))\n",
    "        return x\n",
    "\n",
    "class Decoder(nn.Module):\n",
    "    def __init__(self, in_dim, out_dim):\n",
    "        super().__init__()\n",
    "        self.layer1 = nn.Linear(in_dim, 64)\n",
    "        self.layer2 = nn.Linear(64, 32)\n",
    "        self.layer3 = nn.Linear(32, out_dim)\n",
    "        \n",
    "    def forward(self, x):\n",
    "        x = F.relu(self.layer1(x))\n",
    "        x = F.relu(self.layer2(x))\n",
    "        x = F.relu(self.layer3(x))\n",
    "        return x\n",
    "\n",
    "class KoopmanAutoEncoder(nn.Module):\n",
    "    def __init__(self, in_dim, latent_dim, x_0):\n",
    "        super().__init__()\n",
    "        self.enc = Encoder(in_dim, latent_dim)\n",
    "        self.dec = Decoder(latent_dim, in_dim)\n",
    "        self.km = KoopmanMatrix(latent_dim)\n",
    "        self.x_0 = x_0\n",
    "        \n",
    "    def forward(self, x, steps):\n",
    "        phi_x = self.enc(x)\n",
    "        phi_x_0 = self.enc(self.x_0)\n",
    "        AE_pred = self.dec(phi_x)\n",
    "        K_pred = self.km(phi_x_0, steps)\n",
    "        return phi_x, AE_pred, K_pred\n"
   ]
  },
  {
   "cell_type": "code",
   "execution_count": 74,
   "id": "875a7459-035f-480c-be2b-ce75d3d8f148",
   "metadata": {},
   "outputs": [],
   "source": [
    "X = torch.tensor([[1, 2], [2, 4], [3, 9], [4, 16]]).float()\n",
    "X_0 = X[0, :]"
   ]
  },
  {
   "cell_type": "code",
   "execution_count": 93,
   "id": "0daacddd-3efb-4e85-ae60-f6df0533de26",
   "metadata": {},
   "outputs": [
    {
     "name": "stdout",
     "output_type": "stream",
     "text": [
      "epoch: 1, loss: 22.310\n",
      "epoch: 100, loss: 22.829\n",
      "epoch: 200, loss: 22.524\n",
      "epoch: 300, loss: 24.869\n",
      "epoch: 400, loss: 22.500\n",
      "epoch: 500, loss: 22.500\n",
      "epoch: 600, loss: 261.160\n",
      "epoch: 700, loss: 22.501\n",
      "epoch: 800, loss: 22.500\n",
      "epoch: 900, loss: 22.500\n",
      "epoch: 1000, loss: 22.500\n"
     ]
    }
   ],
   "source": [
    "in_dim = 2\n",
    "latent_dim = 10\n",
    "kae = KoopmanAutoEncoder(in_dim, latent_dim, X_0)\n",
    "loss_fn = nn.MSELoss()\n",
    "epochs = 1000\n",
    "p = X.size()[1]\n",
    "optimizer = torch.optim.Adam(kae.parameters(), lr=1.)\n",
    "\n",
    "for epoch in range(epochs):\n",
    "    optimizer.zero_grad()\n",
    "    for j in range(1, p):\n",
    "        phi_x, AE_pred, K_pred = kae(X[j, :], j)\n",
    "        loss = (loss_fn(phi_x, K_pred) + loss_fn(AE_pred, X_2))/p\n",
    "    loss.backward()\n",
    "    optimizer.step()\n",
    "    if epoch % 100 == 99 or epoch == 0:\n",
    "        print(\"epoch: {}, loss: {:.3f}\".format(epoch+1, loss))"
   ]
  }
 ],
 "metadata": {
  "kernelspec": {
   "display_name": "Python 3 (ipykernel)",
   "language": "python",
   "name": "python3"
  },
  "language_info": {
   "codemirror_mode": {
    "name": "ipython",
    "version": 3
   },
   "file_extension": ".py",
   "mimetype": "text/x-python",
   "name": "python",
   "nbconvert_exporter": "python",
   "pygments_lexer": "ipython3",
   "version": "3.12.3"
  }
 },
 "nbformat": 4,
 "nbformat_minor": 5
}
