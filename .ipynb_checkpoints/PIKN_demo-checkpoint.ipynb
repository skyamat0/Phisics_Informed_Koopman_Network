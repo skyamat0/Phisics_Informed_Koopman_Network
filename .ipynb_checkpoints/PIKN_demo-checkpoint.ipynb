{
 "cells": [
  {
   "cell_type": "code",
   "execution_count": 4,
   "id": "28bdd8ef-0a3d-4d69-8063-10cc37c6bfec",
   "metadata": {},
   "outputs": [],
   "source": [
    "import torch\n",
    "import torch.nn as nn\n",
    "import torch.nn.functional as F"
   ]
  },
  {
   "cell_type": "markdown",
   "id": "e6942e68-d6e3-4d06-9004-53cbd4e1c878",
   "metadata": {},
   "source": [
    "# コスト関数\n",
    "\n",
    "## データから\n",
    "$$\n",
    "\\mathcal{J}_{data} = \\frac{1}{p} \\sum_{j=0}^{p} \\omega_3{\\left\\lVert e^{L\\Delta t_j}\\phi(\\mathbf{x}(t_0)) - \\phi(\\mathbf{x}(t_j))\\right\\rVert}^2 + \\omega_4\\left\\lVert \\mathbf{x}(t_j) - \\psi(\\mathbf{z}(t_j))\\right\\rVert^2\n",
    "$$"
   ]
  },
  {
   "cell_type": "code",
   "execution_count": 66,
   "id": "084abb88-f5f2-4b65-ab6b-b4bdd58d805f",
   "metadata": {},
   "outputs": [],
   "source": [
    "class KoopmanMatrix(nn.Module):\n",
    "    def __init__(self, M):\n",
    "        super().__init__()\n",
    "        self.koopman_matrix = nn.Linear(M, M)\n",
    "    def forward(self, x, steps):\n",
    "        for j in range(steps):\n",
    "            x = self.koopman_matrix(x)\n",
    "        return x\n",
    "        \n",
    "class Encoder(nn.Module):\n",
    "    def __init__(self, in_dim, out_dim):\n",
    "        super().__init__()\n",
    "        self.layer1 = nn.Linear(in_dim, 64)\n",
    "        self.layer2 = nn.Linear(64, 32)\n",
    "        self.layer3 = nn.Linear(32, out_dim)\n",
    "        \n",
    "    def forward(self, x):\n",
    "        x = F.relu(self.layer1(x))\n",
    "        x = F.relu(self.layer2(x))\n",
    "        x = F.relu(self.layer3(x))\n",
    "        return x\n",
    "\n",
    "class Decoder(nn.Module):\n",
    "    def __init__(self, in_dim, out_dim):\n",
    "        super().__init__()\n",
    "        self.layer1 = nn.Linear(in_dim, 64)\n",
    "        self.layer2 = nn.Linear(64, 32)\n",
    "        self.layer3 = nn.Linear(32, out_dim)\n",
    "        \n",
    "    def forward(self, x):\n",
    "        x = F.relu(self.layer1(x))\n",
    "        x = F.relu(self.layer2(x))\n",
    "        x = F.relu(self.layer3(x))\n",
    "        return x\n",
    "\n",
    "class KoopmanAutoEncoder(nn.Module):\n",
    "    \n",
    "    def __init__(self, in_dim, latent_dim, x_0):\n",
    "        super().__init__()\n",
    "        self.enc = Encoder(in_dim, latent_dim)\n",
    "        self.dec = Decoder(latent_dim, in_dim)\n",
    "        self.km = KoopmanMatrix(latent_dim)\n",
    "        self.x_0 = x_0\n",
    "        \n",
    "    def forward(self, x, steps):\n",
    "        phi_x = self.enc(x)\n",
    "        phi_x_0 = self.enc(self.x_0)\n",
    "        AE_pred = self.dec(phi_x)\n",
    "        K_pred = self.km(phi_x_0, steps)\n",
    "        return phi_x, AE_pred, K_pred\n"
   ]
  },
  {
   "cell_type": "code",
   "execution_count": 69,
   "id": "0daacddd-3efb-4e85-ae60-f6df0533de26",
   "metadata": {},
   "outputs": [],
   "source": [
    "in_dim = 2\n",
    "latent_dim = 10\n",
    "loss_fn = nn.MSELoss()\n",
    "\n",
    "X_0 = torch.tensor([1, 2]).float()\n",
    "X_1 = torch.tensor([2, 4]).float()\n",
    "X_2 = torch.tensor([3, 9]).float()\n",
    "kae = KoopmanAutoEncoder(in_dim, latent_dim, X_0)\n",
    "phi_x, AE_pred, K_pred = kae(X_2, 2)\n",
    "loss = loss_fn(phi_x, K_pred) + loss_fn(AE_pred, X_2)\n",
    "loss.backward()"
   ]
  }
 ],
 "metadata": {
  "kernelspec": {
   "display_name": "Python 3 (ipykernel)",
   "language": "python",
   "name": "python3"
  },
  "language_info": {
   "codemirror_mode": {
    "name": "ipython",
    "version": 3
   },
   "file_extension": ".py",
   "mimetype": "text/x-python",
   "name": "python",
   "nbconvert_exporter": "python",
   "pygments_lexer": "ipython3",
   "version": "3.12.3"
  }
 },
 "nbformat": 4,
 "nbformat_minor": 5
}
